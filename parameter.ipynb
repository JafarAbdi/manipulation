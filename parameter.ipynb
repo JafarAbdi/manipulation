{
 "cells": [
  {
   "cell_type": "markdown",
   "metadata": {
    "colab_type": "text",
    "id": "TKvYiJgnYExi"
   },
   "source": [
    "Welcome!  If you are new to Google Colab/Jupyter notebooks, you might take a look at [this notebook](https://colab.research.google.com/notebooks/basic_features_overview.ipynb) first.\n",
    "\n",
    "**I recommend you run the first code cell of this notebook immediately, to start provisioning drake on the cloud machine, then you can leave this window open as you [read the textbook](http://manipulation.csail.mit.edu/intro.html).**\n",
    "\n",
    "# Notebook Setup\n",
    "\n",
    "The following cell will:\n",
    "- on Colab (only), install Drake to `/opt/drake`, install Drake's prerequisites via `apt`, and add pydrake to `sys.path`.  This will take approximately two minutes on the first time it runs (to provision the machine), but should only need to reinstall once every 12 hours.  If you navigate between notebooks using Colab's \"File->Open\" menu, then you can avoid provisioning a separate machine for each notebook.\n",
    "- define some utility methods/classes that will eventually disappear from this notebook and live in drake.\n",
    "\n",
    "You will need to rerun this cell if you restart the kernel, but it should be fast because the machine will already have drake installed."
   ]
  },
  {
   "cell_type": "code",
   "execution_count": 1,
   "metadata": {
    "colab": {},
    "colab_type": "code",
    "id": "A4QOaw_zYLfI"
   },
   "outputs": [],
   "source": [
    "import importlib\n",
    "import sys\n",
    "from urllib.request import urlretrieve\n",
    "\n",
    "# Install drake.\n",
    "if 'google.colab' in sys.modules and importlib.util.find_spec('pydrake') is None:\n",
    "  version='20201117'\n",
    "  build='nightly'\n",
    "  urlretrieve(f\"https://drake-packages.csail.mit.edu/drake/{build}/drake-{version}/setup_drake_colab.py\", \"setup_drake_colab.py\")\n",
    "  from setup_drake_colab import setup_drake\n",
    "  setup_drake(version=version, build=build)\n",
    "\n",
    "# Use pyngrok on colab.\n",
    "server_args = []\n",
    "if 'google.colab' in sys.modules:\n",
    "  server_args = ['--ngrok_http_tunnel']\n",
    "\n",
    "# Start a single meshcat server instance to use for the remainder of this notebook.\n",
    "from meshcat.servers.zmqserver import start_zmq_server_as_subprocess\n",
    "#proc, zmq_url, web_url = start_zmq_server_as_subprocess(server_args=server_args)\n",
    "\n",
    "# Determine if this notebook is currently running as a notebook or a unit test.\n",
    "from IPython import get_ipython\n",
    "running_as_notebook = get_ipython() and hasattr(get_ipython(), 'kernel')\n",
    "\n",
    "# Imports\n",
    "import numpy as np\n",
    "from ipywidgets import ToggleButton, ToggleButtons\n",
    "\n",
    "import pydrake.all\n",
    "from pydrake.all import RigidTransform, RotationMatrix, AutoDiffXd, Expression, Variable\n",
    "from manipulation.scenarios import AddIiwa, AddTwoLinkIiwa\n",
    "\n",
    "# TODO: Use pydrake.symbolic.MakeVectorVariable once that binding PR lands.\n",
    "def MakeVectorVariable(name, dim):\n",
    "    return np.array([pydrake.symbolic.Variable(f\"{name}{i}\") for i in range(dim)])\n",
    "\n",
    "# TODO: Use pydrake.symbolic version once it lands.\n",
    "def DecomposeAffineExpressions(e):\n",
    "    vars = e[0].GetVariables()\n",
    "    for ei in e[1:]:\n",
    "        vars.insert(ei.GetVariables())\n",
    "    p = list(vars)\n",
    "    A = pydrake.symbolic.Evaluate(pydrake.symbolic.Jacobian(e, p))\n",
    "    b = pydrake.symbolic.Evaluate(pydrake.symbolic.Substitute(e, {a:0 for a in p}))\n",
    "    return A, b\n",
    "\n",
    "pydrake.common.set_log_level(\"warn\");"
   ]
  },
  {
   "cell_type": "code",
   "execution_count": 2,
   "metadata": {
    "tags": []
   },
   "outputs": [
    {
     "name": "stdout",
     "output_type": "stream",
     "text": [
      "(1.0527542065909233e-31 + 0.5 * v0 + 0.17176310450000001 * vd0 - 0.055708182999999994 * vd1 - 2.9400411811014152e-49 * (v0 * v1) - 5.5379690013737233e-48 * (v0 * v1 * sin(q0)) - 5.7765412023497699e-36 * (v0 * v1 * sin(q0) * sin(q1)) - 1.2431249748483347e-47 * (v0 * v1 * sin(q0) * sin(q1) * pow(cos(q0), 2)) - 1.608074870934695e-47 * (v0 * v1 * sin(q0) * sin(q1) * pow(cos(q0), 2) * cos(q1)) - 1.0947644252537633e-47 * (v0 * v1 * sin(q0) * sin(q1) * cos(q1)) + 8.4248122298583822e-49 * (v0 * v1 * sin(q0) * pow(sin(q1), 2)) + 1.29040645071254e-47 * (v0 * v1 * sin(q0) * pow(sin(q1), 2) * pow(cos(q0), 2)) + 8.8949609551868271e-48 * (v0 * v1 * sin(q0) * cos(q0)) + 7.7769284013805058e-64 * (v0 * v1 * sin(q0) * pow(cos(q0), 2)) - 2.3138262180345334e-47 * (v0 * v1 * sin(q0) * pow(cos(q0), 2) * cos(q1)) - 2.237289579953558e-47 * (v0 * v1 * sin(q0) * pow(cos(q0), 2) * pow(cos(q1), 2)) + 6.7181527354843034e-34 * (v0 * v1 * sin(q0) * cos(q1)) + 6.9232624285518144e-47 * (v0 * v1 * sin(q0) * pow(cos(q1), 2)) + 3.1192092664955244e-35 * (v0 * v1 * pow(sin(q0), 2)) - 2.0735652 * (v0 * v1 * pow(sin(q0), 2) * sin(q1)) + 3.1051920169897326e-47 * (v0 * v1 * pow(sin(q0), 2) * sin(q1) * cos(q0)) + 8.0347390207254499e-48 * (v0 * v1 * pow(sin(q0), 2) * sin(q1) * cos(q0) * cos(q1)) - 9.202927036164083e-23 * (v0 * v1 * pow(sin(q0), 2) * pow(sin(q1), 2)) + 7.949388971191086e-33 * (v0 * v1 * pow(sin(q0), 2) * pow(sin(q1), 2) * cos(q0)) + 3.0132798464128675e-63 * (v0 * v1 * pow(sin(q0), 2) * cos(q0)) + 1.4133266430703799e-47 * (v0 * v1 * pow(sin(q0), 2) * cos(q0) * cos(q1)) + 7.9493889711910887e-33 * (v0 * v1 * pow(sin(q0), 2) * cos(q0) * pow(cos(q1), 2)) - 0.00029400000000013888 * (v0 * v1 * pow(sin(q0), 2) * cos(q1)) + 2.7186663147446105e-63 * (v0 * v1 * pow(sin(q0), 3)) - 3.9079160817833221e-49 * (v0 * v1 * pow(sin(q0), 3) * sin(q1)) - 6.6148193885744463e-49 * (v0 * v1 * pow(sin(q0), 3) * sin(q1) * cos(q1)) + 1.5291780180217968e-47 * (v0 * v1 * pow(sin(q0), 3) * pow(sin(q1), 2)) - 7.4813473417513897e-48 * (v0 * v1 * pow(sin(q0), 3) * cos(q1)) - 9.250742614174232e-48 * (v0 * v1 * pow(sin(q0), 3) * pow(cos(q1), 2)) - 4.6802106167806121e-69 * (v0 * v1 * sin(q1)) - 6.7181527354842247e-34 * (v0 * v1 * sin(q1) * cos(q0)) + 1.8348529734782923e-47 * (v0 * v1 * sin(q1) * cos(q0) * cos(q1)) - 2.0735652 * (v0 * v1 * sin(q1) * pow(cos(q0), 2)) + 1.2756694501314119e-47 * (v0 * v1 * sin(q1) * pow(cos(q0), 3)) + 2.0389725017800488e-47 * (v0 * v1 * sin(q1) * pow(cos(q0), 3) * cos(q1)) - 5.7858636111323201e-82 * (v0 * v1 * sin(q1) * cos(q1)) + 1.6867516709168837e-80 * (v0 * v1 * pow(sin(q1), 2)) + 8.5149739963530994e-49 * (v0 * v1 * pow(sin(q1), 2) * cos(q0)) + 7.9493889711911024e-33 * (v0 * v1 * pow(sin(q1), 2) * pow(cos(q0), 3)) - 7.9493889711910873e-33 * (v0 * v1 * cos(q0)) - 5.7765412023497626e-36 * (v0 * v1 * cos(q0) * cos(q1)) + 1.0947644252537633e-47 * (v0 * v1 * cos(q0) * pow(cos(q1), 2)) - 3.1192092664954891e-35 * (v0 * v1 * pow(cos(q0), 2)) - 0.00029400000000013888 * (v0 * v1 * pow(cos(q0), 2) * cos(q1)) - 9.202927036164083e-23 * (v0 * v1 * pow(cos(q0), 2) * pow(cos(q1), 2)) + 2.6215848298969659e-63 * (v0 * v1 * pow(cos(q0), 3)) + 1.3090214843901051e-47 * (v0 * v1 * pow(cos(q0), 3) * cos(q1)) + 7.9493889711910887e-33 * (v0 * v1 * pow(cos(q0), 3) * pow(cos(q1), 2)) - 3.0385816786418473e-64 * (v0 * v1 * cos(q1)) + 3.0020808920301604e-81 * (v0 * v1 * pow(cos(q1), 2)) + 3.2073437552453429e-50 * (pow(v0, 2) * sin(q0)) + 4.5982609151441397e-35 * (pow(v0, 2) * sin(q0) * sin(q1)) + 1.3552527156068805e-20 * (pow(v0, 2) * sin(q0) * sin(q1) * cos(q0)) + 5.4738221262688167e-48 * (pow(v0, 2) * sin(q0) * sin(q1) * cos(q1)) - 4.2124061149291911e-49 * (pow(v0, 2) * sin(q0) * pow(sin(q1), 2)) - 1.1102230246251565e-16 * (pow(v0, 2) * sin(q0) * cos(q0) * cos(q1)) - 2.6597681006938626e-33 * (pow(v0, 2) * sin(q0) * cos(q1)) - 3.4616312142759072e-47 * (pow(v0, 2) * sin(q0) * pow(cos(q1), 2)) - 1.2325951644078309e-32 * (pow(v0, 2) * pow(sin(q0), 2)) + 2.2204460492503131e-16 * (pow(v0, 2) * pow(sin(q0), 2) * sin(q1)) + 4.6014635180820415e-23 * (pow(v0, 2) * pow(sin(q0), 2) * pow(sin(q1), 2)) + 1.3552527156068805e-20 * (pow(v0, 2) * pow(sin(q0), 2) * cos(q1)) + 2.3401053083903061e-69 * (pow(v0, 2) * sin(q1)) + 3.3590763677421124e-34 * (pow(v0, 2) * sin(q1) * cos(q0)) - 9.1742648673914616e-48 * (pow(v0, 2) * sin(q1) * cos(q0) * cos(q1)) + 2.2204460492503131e-16 * (pow(v0, 2) * sin(q1) * pow(cos(q0), 2)) + 2.89293180556616e-82 * (pow(v0, 2) * sin(q1) * cos(q1)) - 8.4337583545844186e-81 * (pow(v0, 2) * pow(sin(q1), 2)) - 4.2574869981765497e-49 * (pow(v0, 2) * pow(sin(q1), 2) * cos(q0)) + 3.1169248471790973e-34 * (pow(v0, 2) * cos(q0)) - 1.2206611292966753e-34 * (pow(v0, 2) * cos(q0) * cos(q1)) - 5.4738221262688167e-48 * (pow(v0, 2) * cos(q0) * pow(cos(q1), 2)) - 2.1232239329904897e-34 * (pow(v0, 2) * pow(cos(q0), 2)) + 1.0150743753366114e-20 * (pow(v0, 2) * pow(cos(q0), 2) * cos(q1)) + 4.6014635180820415e-23 * (pow(v0, 2) * pow(cos(q0), 2) * pow(cos(q1), 2)) + 1.5192908393209236e-64 * (pow(v0, 2) * cos(q1)) - 1.5010404460150802e-81 * (pow(v0, 2) * pow(cos(q1), 2)) - 1.8157542592201601e-48 * (pow(v1, 2) * sin(q0)) + 2.888270601174885e-36 * (pow(v1, 2) * sin(q0) * sin(q1)) + 6.8743508343571272e-48 * (pow(v1, 2) * sin(q0) * sin(q1) * pow(cos(q0), 2)) + 8.4352454250509695e-48 * (pow(v1, 2) * sin(q0) * sin(q1) * pow(cos(q0), 2) * cos(q1)) + 6.5995854270102597e-51 * (pow(v1, 2) * sin(q0) * sin(q1) * pow(cos(q0), 3)) + 5.4738221262688167e-48 * (pow(v1, 2) * sin(q0) * sin(q1) * cos(q1)) - 4.2124061149291911e-49 * (pow(v1, 2) * sin(q0) * pow(sin(q1), 2)) - 1.4091409450575839e-47 * (pow(v1, 2) * sin(q0) * pow(sin(q1), 2) * pow(cos(q0), 2)) - 2.4851885304307434e-32 * (pow(v1, 2) * sin(q0) * pow(sin(q1), 2) * pow(cos(q0), 3)) + 2.4851885304307478e-32 * (pow(v1, 2) * sin(q0) * cos(q0)) - 2.924972613489978e-66 * (pow(v1, 2) * sin(q0) * pow(cos(q0), 2)) - 2.1895288505075267e-47 * (pow(v1, 2) * sin(q0) * pow(cos(q0), 2) * pow(cos(q1), 2)) - 8.0312856823398992e-63 * (pow(v1, 2) * sin(q0) * pow(cos(q0), 3)) - 1.2174275888914457e-47 * (pow(v1, 2) * sin(q0) * pow(cos(q0), 3) * cos(q1)) - 2.4851885304307484e-32 * (pow(v1, 2) * sin(q0) * pow(cos(q0), 3) * pow(cos(q1), 2)) - 3.3590763677421517e-34 * (pow(v1, 2) * sin(q0) * cos(q1)) - 3.4616312142759072e-47 * (pow(v1, 2) * sin(q0) * pow(cos(q1), 2)) + 2.5401416243978406e-48 * (pow(v1, 2) * pow(sin(q0), 2)) + 1.0367826 * (pow(v1, 2) * pow(sin(q0), 2) * sin(q1)) - 2.5555564938134394e-48 * (pow(v1, 2) * pow(sin(q0), 2) * sin(q1) * cos(q0)) + 1.2157676290455612e-30 * (pow(v1, 2) * pow(sin(q0), 2) * sin(q1) * pow(cos(q0), 2)) + 9.9626862436364677e-31 * (pow(v1, 2) * pow(sin(q0), 2) * sin(q1) * pow(cos(q0), 2) * cos(q1)) + 4.6014635180820415e-23 * (pow(v1, 2) * pow(sin(q0), 2) * pow(sin(q1), 2)) - 3.9746944855955396e-33 * (pow(v1, 2) * pow(sin(q0), 2) * pow(sin(q1), 2) * cos(q0)) - 1.0691500183185701e-34 * (pow(v1, 2) * pow(sin(q0), 2) * pow(sin(q1), 2) * pow(cos(q0), 2)) - 1.2967249818691263e-63 * (pow(v1, 2) * pow(sin(q0), 2) * cos(q0)) - 9.7963273333359723e-48 * (pow(v1, 2) * pow(sin(q0), 2) * cos(q0) * cos(q1)) - 3.9746944855955409e-33 * (pow(v1, 2) * pow(sin(q0), 2) * cos(q0) * pow(cos(q1), 2)) + 3.4751930023482185e-79 * (pow(v1, 2) * pow(sin(q0), 2) * pow(cos(q0), 2)) + 1.7237735420107048e-34 * (pow(v1, 2) * pow(sin(q0), 2) * pow(cos(q0), 2) * cos(q1)) + 1.0691500183185701e-34 * (pow(v1, 2) * pow(sin(q0), 2) * pow(cos(q0), 2) * pow(cos(q1), 2)) + 0.00014700000000006944 * (pow(v1, 2) * pow(sin(q0), 2) * cos(q1)) + 6.1298702265282748e-79 * (pow(v1, 2) * pow(sin(q0), 3)) + 3.9824194180373715e-49 * (pow(v1, 2) * pow(sin(q0), 3) * sin(q1)) + 6.5995854270102597e-51 * (pow(v1, 2) * pow(sin(q0), 3) * sin(q1) * cos(q0)) - 8.101149836289445e-48 * (pow(v1, 2) * pow(sin(q0), 3) * sin(q1) * cos(q1)) - 9.8544568649748224e-49 * (pow(v1, 2) * pow(sin(q0), 3) * pow(sin(q1), 2)) - 2.4851885304307434e-32 * (pow(v1, 2) * pow(sin(q0), 3) * pow(sin(q1), 2) * cos(q0)) - 8.0312856823398992e-63 * (pow(v1, 2) * pow(sin(q0), 3) * cos(q0)) - 1.2174275888914457e-47 * (pow(v1, 2) * pow(sin(q0), 3) * cos(q0) * cos(q1)) - 2.4851885304307484e-32 * (pow(v1, 2) * pow(sin(q0), 3) * cos(q0) * pow(cos(q1), 2)) + 2.1895288505075267e-47 * (pow(v1, 2) * pow(sin(q0), 3) * cos(q1)) - 2.1895288505075267e-47 * (pow(v1, 2) * pow(sin(q0), 3) * pow(cos(q1), 2)) - 6.3877792532554678e-79 * (pow(v1, 2) * pow(sin(q0), 4)) + 6.0788381452278058e-31 * (pow(v1, 2) * pow(sin(q0), 4) * sin(q1)) + 4.9813431218182338e-31 * (pow(v1, 2) * pow(sin(q0), 4) * sin(q1) * cos(q1)) - 6.905354724840894e-35 * (pow(v1, 2) * pow(sin(q0), 4) * pow(sin(q1), 2)) + 8.6188677100535239e-35 * (pow(v1, 2) * pow(sin(q0), 4) * cos(q1)) + 3.7861454583448062e-35 * (pow(v1, 2) * pow(sin(q0), 4) * pow(cos(q1), 2)) + 2.3401053083903061e-69 * (pow(v1, 2) * sin(q1)) + 3.3590763677421124e-34 * (pow(v1, 2) * sin(q1) * cos(q0)) - 9.1742648673914616e-48 * (pow(v1, 2) * sin(q1) * cos(q0) * cos(q1)) + 1.0367826 * (pow(v1, 2) * sin(q1) * pow(cos(q0), 2)) - 1.2759778725980118e-47 * (pow(v1, 2) * sin(q1) * pow(cos(q0), 3)) - 2.1895288505075267e-47 * (pow(v1, 2) * sin(q1) * pow(cos(q0), 3) * cos(q1)) + 6.0788381452278058e-31 * (pow(v1, 2) * sin(q1) * pow(cos(q0), 4)) + 4.9813431218182338e-31 * (pow(v1, 2) * sin(q1) * pow(cos(q0), 4) * cos(q1)) + 2.89293180556616e-82 * (pow(v1, 2) * sin(q1) * cos(q1)) - 8.4337583545844186e-81 * (pow(v1, 2) * pow(sin(q1), 2)) - 4.2574869981765497e-49 * (pow(v1, 2) * pow(sin(q1), 2) * cos(q0)) - 3.9746944855955471e-33 * (pow(v1, 2) * pow(sin(q1), 2) * pow(cos(q0), 3)) - 3.7861454583448056e-35 * (pow(v1, 2) * pow(sin(q1), 2) * pow(cos(q0), 4)) + 3.974694485595543e-33 * (pow(v1, 2) * cos(q0)) + 2.8882706011748813e-36 * (pow(v1, 2) * cos(q0) * cos(q1)) - 5.4738221262688167e-48 * (pow(v1, 2) * cos(q0) * pow(cos(q1), 2)) - 3.0435461332756143e-48 * (pow(v1, 2) * pow(cos(q0), 2)) + 0.00014700000000006944 * (pow(v1, 2) * pow(cos(q0), 2) * cos(q1)) + 4.6014635180820415e-23 * (pow(v1, 2) * pow(cos(q0), 2) * pow(cos(q1), 2)) - 1.2875807464854871e-63 * (pow(v1, 2) * pow(cos(q0), 3)) - 8.9759687823104844e-64 * (pow(v1, 2) * pow(cos(q0), 3) * cos(q1)) - 3.9746944855955252e-33 * (pow(v1, 2) * pow(cos(q0), 3) * pow(cos(q1), 2)) + 9.8629722556036887e-79 * (pow(v1, 2) * pow(cos(q0), 4)) + 8.6188677100535239e-35 * (pow(v1, 2) * pow(cos(q0), 4) * cos(q1)) + 6.905354724840895e-35 * (pow(v1, 2) * pow(cos(q0), 4) * pow(cos(q1), 2)) + 1.5192908393209236e-64 * (pow(v1, 2) * cos(q1)) - 1.5010404460150802e-81 * (pow(v1, 2) * pow(cos(q1), 2)) - 1.8395231149140225e-33 * (vd0 * sin(q0)) - 4.3446434098068306e-34 * (vd0 * sin(q0) * sin(q1)) + 1.1102230246251565e-16 * (vd0 * sin(q0) * sin(q1) * cos(q0)) - 9.8530134655193746e-47 * (vd0 * sin(q0) * sin(q1) * cos(q1)) + 1.559604633247674e-35 * (vd0 * sin(q0) * pow(sin(q1), 2)) + 1.3552527156068805e-20 * (vd0 * sin(q0) * cos(q0) * cos(q1)) + 4.0241275917558907e-34 * (vd0 * sin(q0) * cos(q1)) + 1.5596046332468954e-35 * (vd0 * sin(q0) * pow(cos(q1), 2)) + 2.0964658749999998 * (vd0 * pow(sin(q0), 2)) - 0.00029400000000013888 * (vd0 * pow(sin(q0), 2) * sin(q1)) + 0.80688007499999992 * (vd0 * pow(sin(q0), 2) * pow(sin(q1), 2)) + 2.0735652 * (vd0 * pow(sin(q0), 2) * cos(q1)) + 0.80688007500000003 * (vd0 * pow(sin(q0), 2) * pow(cos(q1), 2)) + 1.1255991974846026e-20 * (vd0 * sin(q1)) - 5.7046148125669539e-34 * (vd0 * sin(q1) * cos(q0)) - 2.7369110631344083e-47 * (vd0 * sin(q1) * cos(q0) * cos(q1)) - 0.00029400000000013882 * (vd0 * sin(q1) * pow(cos(q0), 2)) + 3.1192092664955014e-35 * (vd0 * sin(q1) * cos(q1)) + 2.4949131930048253e-32 * (vd0 * pow(sin(q1), 2)) - 4.9887176442106626e-36 * (vd0 * pow(sin(q1), 2) * cos(q0)) + 0.80688007500000003 * (vd0 * pow(sin(q1), 2) * pow(cos(q0), 2)) - 2.7699527003920547e-66 * (vd0 * cos(q0)) - 1.1920917880806131e-33 * (vd0 * cos(q0) * cos(q1)) - 4.9887176442137784e-36 * (vd0 * cos(q0) * pow(cos(q1), 2)) + 2.0964658749999998 * (vd0 * pow(cos(q0), 2)) + 2.0735652 * (vd0 * pow(cos(q0), 2) * cos(q1)) + 0.80688007499999992 * (vd0 * pow(cos(q0), 2) * pow(cos(q1), 2)) - 2.0763963618829045e-17 * (vd0 * cos(q1)) - 9.72466257407735e-35 * (vd0 * pow(cos(q1), 2)) - 3.8377648527666729e-33 * (vd1 * sin(q0)) + 4.3446434098068306e-34 * (vd1 * sin(q0) * sin(q1)) + 2.1895288505075267e-47 * (vd1 * sin(q0) * sin(q1) * pow(cos(q0), 2)) - 6.56858655152258e-47 * (vd1 * sin(q0) * sin(q1) * pow(cos(q0), 2) * cos(q1)) + 9.8530134655193746e-47 * (vd1 * sin(q0) * sin(q1) * cos(q1)) - 1.559604633247674e-35 * (vd1 * sin(q0) * pow(sin(q1), 2)) + 3.9746944855955478e-33 * (vd1 * sin(q0) * pow(sin(q1), 2) * pow(cos(q0), 2)) - 3.1192092664954661e-35 * (vd1 * sin(q0) * cos(q0)) + 2.3580619453001099e-63 * (vd1 * sin(q0) * pow(cos(q0), 2)) - 3.4211388289180104e-49 * (vd1 * sin(q0) * pow(cos(q0), 2) * cos(q1)) + 3.9746944855955396e-33 * (vd1 * sin(q0) * pow(cos(q0), 2) * pow(cos(q1), 2)) - 5.2736714270643008e-34 * (vd1 * sin(q0) * cos(q1)) - 1.5596046332468954e-35 * (vd1 * sin(q0) * pow(cos(q1), 2)) - 4.072045462858376e-33 * (vd1 * pow(sin(q0), 2)) + 0.00014700000000006944 * (vd1 * pow(sin(q0), 2) * sin(q1)) + 1.1616658641591391e-47 * (vd1 * pow(sin(q0), 2) * sin(q1) * cos(q0)) - 2.8852495045445252e-47 * (vd1 * pow(sin(q0), 2) * sin(q1) * cos(q0) * cos(q1)) - 0.80688007499999992 * (vd1 * pow(sin(q0), 2) * pow(sin(q1), 2)) + 2.1895288505075267e-47 * (vd1 * pow(sin(q0), 2) * pow(sin(q1), 2) * cos(q0)) + 5.4773249791148454e-63 * (vd1 * pow(sin(q0), 2) * cos(q0)) + 8.0640732442310453e-48 * (vd1 * pow(sin(q0), 2) * cos(q0) * cos(q1)) - 9.0158052962463141e-48 * (vd1 * pow(sin(q0), 2) * cos(q0) * pow(cos(q1), 2)) - 1.0367826 * (vd1 * pow(sin(q0), 2) * cos(q1)) - 0.80688007500000003 * (vd1 * pow(sin(q0), 2) * pow(cos(q1), 2)) + 1.2166879749162248e-63 * (vd1 * pow(sin(q0), 3)) + 6.56858655152258e-47 * (vd1 * pow(sin(q0), 3) * sin(q1)) + 3.9746944855955478e-33 * (vd1 * pow(sin(q0), 3) * pow(sin(q1), 2)) + 3.2340452992115567e-49 * (vd1 * pow(sin(q0), 3) * cos(q1)) + 3.9746944855955409e-33 * (vd1 * pow(sin(q0), 3) * pow(cos(q1), 2)) - 1.1255991974846026e-20 * (vd1 * sin(q1)) + 5.2736714270642888e-34 * (vd1 * sin(q1) * cos(q0)) + 2.7369110631344083e-47 * (vd1 * sin(q1) * cos(q0) * cos(q1)) + 0.00014700000000006944 * (vd1 * sin(q1) * pow(cos(q0), 2)) - 1.0947644252537633e-47 * (vd1 * sin(q1) * pow(cos(q0), 3)) - 7.5906517766618356e-48 * (vd1 * sin(q1) * pow(cos(q0), 3) * cos(q1)) - 3.1192092664955014e-35 * (vd1 * sin(q1) * cos(q1)) - 2.4949131930048253e-32 * (vd1 * pow(sin(q1), 2)) + 4.9887176442106626e-36 * (vd1 * pow(sin(q1), 2) * cos(q0)) - 0.80688007500000003 * (vd1 * pow(sin(q1), 2) * pow(cos(q0), 2)) + 2.1895288505075267e-47 * (vd1 * pow(sin(q1), 2) * pow(cos(q0), 3)) - 2.5934385629006587e-33 * (vd1 * cos(q0)) + 4.3446434098068306e-34 * (vd1 * cos(q0) * cos(q1)) + 4.9887176442137784e-36 * (vd1 * cos(q0) * pow(cos(q1), 2)) - 8.5209436343928891e-33 * (vd1 * pow(cos(q0), 2)) - 1.0367826 * (vd1 * pow(cos(q0), 2) * cos(q1)) - 0.80688007499999992 * (vd1 * pow(cos(q0), 2) * pow(cos(q1), 2)) + 4.0838537760963746e-63 * (vd1 * pow(cos(q0), 3)) + 5.8346453621312631e-48 * (vd1 * pow(cos(q0), 3) * cos(q1)) + 2.4237929461277129e-48 * (vd1 * pow(cos(q0), 3) * pow(cos(q1), 2)) + 2.0763963618829045e-17 * (vd1 * cos(q1)) + 9.72466257407735e-35 * (vd1 * pow(cos(q1), 2)) + 0.0034335000000031437 * (sin(q0) * sin(q1)) - 24.2162793 * (sin(q0) * cos(q1)) + 24.2162793 * (sin(q1) * cos(q0)) + 0.0034335000000031437 * (cos(q0) * cos(q1)) - 1.9511182383673028e-49 * pow(v0, 2) + 1.4700205905507076e-49 * pow(v1, 2) - 56.362373999999996 * sin(q0) - 4.7179858670452031e-50 * sin(q1) + 0.018688050000003134 * cos(q0) - 5.254869241218064e-46 * cos(q1))\n"
     ]
    }
   ],
   "source": [
    "\n",
    "def symbolic_dynamics_example():\n",
    "    plant = pydrake.multibody.plant.MultibodyPlant(1.0)  # time_step doesn't matter for this example.\n",
    "    iiwa = AddTwoLinkIiwa(plant)\n",
    "    plant.Finalize()\n",
    "\n",
    "    sym_plant = plant.ToSymbolic()\n",
    "    q = MakeVectorVariable(\"q\", 2)\n",
    "    v = MakeVectorVariable(\"v\", 2)\n",
    "    tau = MakeVectorVariable(\"u\", 2)\n",
    "    sym_context = sym_plant.CreateDefaultContext()\n",
    "    sym_plant.get_actuation_input_port().FixValue(sym_context, tau)\n",
    "    sym_plant.SetPositions(sym_context, q)\n",
    "    sym_plant.SetVelocities(sym_context, v)\n",
    "\n",
    "    vd = MakeVectorVariable(\"vd\", 2)\n",
    "    forces = pydrake.multibody.tree.MultibodyForces_[pydrake.symbolic.Expression](sym_plant)\n",
    "    sym_plant.CalcForceElementsContribution(sym_context, forces)\n",
    "    sym_tau = sym_plant.CalcInverseDynamics(sym_context, vd, forces)\n",
    "    print(sym_tau[0].Expand())\n",
    "\n",
    "symbolic_dynamics_example()"
   ]
  },
  {
   "cell_type": "code",
   "execution_count": 4,
   "metadata": {
    "tags": []
   },
   "outputs": [
    {
     "name": "stdout",
     "output_type": "stream",
     "text": [
      "tau[0] = (-31.437714139650371 - 8.4132135365686072 * m_com0 + 3.1573901569485536 * m_com1 - 1.5456650091802271e-11 * m_com2 + 3.0460567470935521e-31 * Ixx + 1.8965929950818608e-23 * Iyy + 0.79085991989924953 * Izz + 4.81637418820688e-27 * Ixy + 9.8352063567868261e-16 * Ixz + 7.7458101830234417e-12 * Iyz)\n",
      "tau[1] = (27.143453259514324 + 8.5335747109343316 * m_com0 - 2.8478029670627292 * m_com1 + 1.3940987770061476e-11 * m_com2 - 1.766121271181897e-31 * Ixx - 1.8963166010672108e-23 * Iyy - 0.79085991989924953 * Izz - 3.7414815094795156e-27 * Ixy - 7.6408681437263572e-16 * Ixz - 7.7452457659640215e-12 * Iyz)\n",
      "w = [[-8.41321354e+00  3.15739016e+00 -1.54566501e-11  3.04605675e-31\n",
      "   1.89659300e-23  7.90859920e-01  4.81637419e-27  9.83520636e-16\n",
      "   7.74581018e-12]\n",
      " [ 8.53357471e+00 -2.84780297e+00  1.39409878e-11 -1.76612127e-31\n",
      "  -1.89631660e-23 -7.90859920e-01 -3.74148151e-27 -7.64086814e-16\n",
      "  -7.74524577e-12]]\n",
      "y = [[-31.43771414]\n",
      " [ 27.14345326]]\n"
     ]
    }
   ],
   "source": [
    "def symbolic_mustard_example():\n",
    "    plant = pydrake.multibody.plant.MultibodyPlant(1.0)  # time_step doesn't matter for this example.\n",
    "    iiwa = AddTwoLinkIiwa(plant)\n",
    "    parser = pydrake.multibody.parsing.Parser(plant)\n",
    "    mustard = parser.AddModelFromFile(pydrake.common.FindResourceOrThrow(\n",
    "        \"drake/manipulation/models/ycb/sdf/006_mustard_bottle.sdf\"))\n",
    "    plant.WeldFrames(plant.GetFrameByName(\"iiwa_link_ee\", iiwa), \n",
    "                    plant.GetFrameByName(\"base_link_mustard\", mustard))\n",
    "    plant.Finalize()\n",
    "    context = plant.CreateDefaultContext()\n",
    "\n",
    "    sym_plant = plant.ToSymbolic()\n",
    "    sym_context = sym_plant.CreateDefaultContext()\n",
    "    # TODO: Remove this line on resolution of #14344.\n",
    "    sym_plant.SetPositions(sym_context, plant.GetPositions(context))\n",
    "\n",
    "    sym_inertia = pydrake.multibody.tree.SpatialInertia_[Expression](\n",
    "        1.0, \n",
    "        MakeVectorVariable(\"m_com\", 3), \n",
    "        pydrake.multibody.tree.UnitInertia_[Expression](Variable(\"Ixx\"), Variable(\"Iyy\"), Variable(\"Izz\"), Variable(\"Ixy\"), Variable(\"Ixz\"), Variable(\"Iyz\")))\n",
    "    body = sym_plant.GetBodyByName(\"base_link_mustard\")\n",
    "    body.SetSpatialInertiaInBodyFrame(sym_context, sym_inertia)\n",
    "\n",
    "    vd = np.random.randn(2).astype(Expression)\n",
    "    forces = pydrake.multibody.tree.MultibodyForces_[pydrake.symbolic.Expression](sym_plant)\n",
    "    sym_plant.CalcForceElementsContribution(sym_context, forces)\n",
    "    sym_tau = sym_plant.CalcInverseDynamics(sym_context, vd, forces)\n",
    "    print(f\"tau[0] = {sym_tau[0].Expand()}\")\n",
    "    print(f\"tau[1] = {sym_tau[1].Expand()}\")\n",
    "\n",
    "    w, y = DecomposeAffineExpressions(sym_tau)\n",
    "\n",
    "    print(f\"w = {w}\")\n",
    "    print(f\"y = {y}\")\n",
    "\n",
    "symbolic_mustard_example()"
   ]
  },
  {
   "cell_type": "code",
   "execution_count": null,
   "metadata": {},
   "outputs": [],
   "source": [
    "def parameter_estimation_example():\n",
    "    plant = pydrake.multibody.plant.MultibodyPlant(time_step=0.002)  \n",
    "    iiwa = AddIiwa(plant)\n",
    "    parser = pydrake.multibody.parsing.Parser(plant)\n",
    "    mustard = parser.AddModelFromFile(pydrake.common.FindResourceOrThrow(\n",
    "        \"drake/manipulation/models/ycb/sdf/006_mustard_bottle.sdf\"))\n",
    "    plant.WeldFrames(plant.GetFrameByName(\"iiwa_link_ee\", iiwa), \n",
    "                    plant.GetFrameByName(\"base_link_mustard\", mustard))\n",
    "    plant.Finalize()\n",
    "    context = plant.CreateDefaultContext()\n",
    "\n",
    "    ad_plant = plant.ToAutoDiffXd()\n",
    "    ad_context = ad_plant.CreateDefaultContext()\n",
    "\n",
    "    # TODO: Remove this line on resolution of #14344.\n",
    "    ad_plant.SetPositions(ad_context, plant.GetPositions(context))\n",
    "\n",
    "    # initial guess\n",
    "    mass = [1.0]\n",
    "    com = [0, 0, 0]\n",
    "    unit_inertia = [1, 1, 1, 0, 0, 0]\n",
    "\n",
    "    ad_mass, ad_com, ad_unit_inertia = pydrake.autodiffutils.initializeAutoDiffTuple(mass, com, unit_inertia)\n",
    "    ad_inertia = pydrake.multibody.tree.SpatialInertia_[AutoDiffXd](\n",
    "        ad_mass[0][0], \n",
    "        ad_com[:,0], \n",
    "        pydrake.multibody.tree.UnitInertia_[AutoDiffXd](*ad_unit_inertia[:,0].tolist()))\n",
    "    body = ad_plant.GetBodyByName(\"base_link_mustard\")\n",
    "    body.SetSpatialInertiaInBodyFrame(ad_context, ad_inertia)\n",
    "\n",
    "    forces = pydrake.multibody.tree.MultibodyForces_[AutoDiffXd](ad_plant)\n",
    "    ad_plant.CalcForceElementsContribution(ad_context, forces)\n",
    "    vd = [0]*7\n",
    "    tau = ad_plant.CalcInverseDynamics(ad_context, vd, forces)\n",
    "    print(tau)\n",
    "\n",
    "parameter_estimation_example()"
   ]
  },
  {
   "cell_type": "code",
   "execution_count": null,
   "metadata": {},
   "outputs": [],
   "source": [
    "# TODO: make the data, by waving the arm around a bit.  animate it in meshcat.\n",
    "# TODO: mathematical program with mass, com, unit_inertia as decision variables.  The costs are linear in com / inertia, so add them as symbolic objectives for sure! "
   ]
  }
 ],
 "metadata": {
  "colab": {
   "collapsed_sections": [],
   "name": "Robotic Manipulation - Introduction.ipynb",
   "provenance": [],
   "toc_visible": true
  },
  "kernelspec": {
   "display_name": "Python 3",
   "language": "python",
   "name": "python3"
  },
  "language_info": {
   "codemirror_mode": {
    "name": "ipython",
    "version": 3
   },
   "file_extension": ".py",
   "mimetype": "text/x-python",
   "name": "python",
   "nbconvert_exporter": "python",
   "pygments_lexer": "ipython3",
   "version": "3.6.9"
  }
 },
 "nbformat": 4,
 "nbformat_minor": 1
}
